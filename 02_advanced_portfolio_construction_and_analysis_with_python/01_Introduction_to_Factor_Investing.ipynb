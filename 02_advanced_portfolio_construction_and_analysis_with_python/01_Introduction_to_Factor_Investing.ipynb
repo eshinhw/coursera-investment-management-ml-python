{
 "cells": [
  {
   "cell_type": "markdown",
   "id": "85481575",
   "metadata": {},
   "source": [
    "# Introduction to Factor Investing"
   ]
  },
  {
   "cell_type": "markdown",
   "id": "a0e8f39d",
   "metadata": {},
   "source": [
    "**Indicization** refers to the trend of creating new indices that capture the portion of active management that is rules based and systematic, and in the long run should outperform the cap-weighted benchmark.\n",
    "\n",
    "Factor Investing tries to identify the underlying reasons of excessive returns. If we can truly understand what's driving the performance of a portfolio and if we can harnest those drivers effectively and inexpensively, we can manage our portfolios more effectively.\n",
    "\n",
    "A factor is a variable which influences the returns of assets. It represents commonality in the returns something outside the individual asset. Exposure to factor risk over the long run yields a reward. (The Risk Premium).\n",
    "\n",
    "## Types of Factors\n",
    "\n",
    "- **Macro Factors**: Industrial Growth, Inflation,...\n",
    "- **Statisctical Factors**: Something extracted from the data that may or may not be identifiable.\n",
    "- **Intrinsic Factors or Style Factors**: Value-Growth, Momentum, Low Volatility,..."
   ]
  },
  {
   "cell_type": "code",
   "execution_count": null,
   "id": "75cf00b4",
   "metadata": {},
   "outputs": [],
   "source": []
  }
 ],
 "metadata": {
  "kernelspec": {
   "display_name": "Python 3 (ipykernel)",
   "language": "python",
   "name": "python3"
  },
  "language_info": {
   "codemirror_mode": {
    "name": "ipython",
    "version": 3
   },
   "file_extension": ".py",
   "mimetype": "text/x-python",
   "name": "python",
   "nbconvert_exporter": "python",
   "pygments_lexer": "ipython3",
   "version": "3.9.16"
  }
 },
 "nbformat": 4,
 "nbformat_minor": 5
}
