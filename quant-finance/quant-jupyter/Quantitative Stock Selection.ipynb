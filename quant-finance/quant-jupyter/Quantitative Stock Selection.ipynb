{
 "cells": [
  {
   "cell_type": "markdown",
   "id": "2fb8b4e5",
   "metadata": {},
   "source": [
    "# Quantitative Stock Selection"
   ]
  },
  {
   "cell_type": "code",
   "execution_count": 1,
   "id": "12ab74b8",
   "metadata": {},
   "outputs": [],
   "source": [
    "import src.fmp as fmp # fmp.py contains all helper functions working with FMP API for financial data\n",
    "import pandas as pd"
   ]
  },
  {
   "cell_type": "markdown",
   "id": "8bbd0c15",
   "metadata": {},
   "source": [
    "## 1. Retrieve Dow Jones stock symbols and financial data "
   ]
  },
  {
   "cell_type": "code",
   "execution_count": 2,
   "id": "104acc33",
   "metadata": {},
   "outputs": [
    {
     "name": "stdout",
     "output_type": "stream",
     "text": [
      "CRM: 1/30\n",
      "WBA: 2/30\n",
      "V: 3/30\n",
      "NKE: 4/30\n",
      "UNH: 5/30\n",
      "TRV: 6/30\n",
      "VZ: 7/30\n",
      "INTC: 8/30\n",
      "WMT: 9/30\n",
      "JNJ: 10/30\n",
      "DIS: 11/30\n",
      "MCD: 12/30\n",
      "JPM: 13/30\n",
      "CAT: 14/30\n",
      "BA: 15/30\n",
      "AMGN: 16/30\n",
      "DOW: 17/30\n",
      "AAPL: 18/30\n",
      "GS: 19/30\n",
      "CSCO: 20/30\n",
      "MSFT: 21/30\n",
      "HD: 22/30\n",
      "PG: 23/30\n",
      "MRK: 24/30\n",
      "IBM: 25/30\n",
      "HON: 26/30\n",
      "KO: 27/30\n",
      "CVX: 28/30\n",
      "AXP: 29/30\n",
      "MMM: 30/30\n"
     ]
    }
   ],
   "source": [
    "# Retrieve symbols and financials\n",
    "symbols = fmp.dow_symbols()\n",
    "df = fmp.extract_financials(symbols)"
   ]
  },
  {
   "cell_type": "markdown",
   "id": "d98366b1",
   "metadata": {},
   "source": [
    "## 2. Filtering stocks based on financial ratio criteria"
   ]
  },
  {
   "cell_type": "code",
   "execution_count": 3,
   "id": "7ebe8395",
   "metadata": {},
   "outputs": [
    {
     "data": {
      "text/html": [
       "<div>\n",
       "<style scoped>\n",
       "    .dataframe tbody tr th:only-of-type {\n",
       "        vertical-align: middle;\n",
       "    }\n",
       "\n",
       "    .dataframe tbody tr th {\n",
       "        vertical-align: top;\n",
       "    }\n",
       "\n",
       "    .dataframe thead th {\n",
       "        text-align: right;\n",
       "    }\n",
       "</style>\n",
       "<table border=\"1\" class=\"dataframe\">\n",
       "  <thead>\n",
       "    <tr style=\"text-align: right;\">\n",
       "      <th></th>\n",
       "      <th>Symbol</th>\n",
       "      <th>Name</th>\n",
       "      <th>Exchange</th>\n",
       "      <th>Sector</th>\n",
       "      <th>Industry</th>\n",
       "      <th>MarketCap(B)</th>\n",
       "      <th>Revenue_Growth</th>\n",
       "      <th>ROE</th>\n",
       "      <th>GPMargin</th>\n",
       "      <th>EPS_Growth</th>\n",
       "      <th>DivYield</th>\n",
       "      <th>DPS</th>\n",
       "      <th>DPS_Growth</th>\n",
       "    </tr>\n",
       "  </thead>\n",
       "  <tbody>\n",
       "    <tr>\n",
       "      <th>1</th>\n",
       "      <td>WBA</td>\n",
       "      <td>Walgreens Boots Alliance, Inc.</td>\n",
       "      <td>NASDAQ</td>\n",
       "      <td>Healthcare</td>\n",
       "      <td>Pharmaceutical Retailers</td>\n",
       "      <td>42.150818</td>\n",
       "      <td>0.441947</td>\n",
       "      <td>0.106518</td>\n",
       "      <td>0.202202</td>\n",
       "      <td>0.163854</td>\n",
       "      <td>0.038577</td>\n",
       "      <td>1.881</td>\n",
       "      <td>0.304819</td>\n",
       "    </tr>\n",
       "    <tr>\n",
       "      <th>3</th>\n",
       "      <td>NKE</td>\n",
       "      <td>NIKE, Inc.</td>\n",
       "      <td>NYSE</td>\n",
       "      <td>Consumer Cyclical</td>\n",
       "      <td>Footwear &amp; Accessories</td>\n",
       "      <td>244.794769</td>\n",
       "      <td>0.595383</td>\n",
       "      <td>0.514070</td>\n",
       "      <td>0.448202</td>\n",
       "      <td>0.043478</td>\n",
       "      <td>0.007114</td>\n",
       "      <td>1.100</td>\n",
       "      <td>0.716614</td>\n",
       "    </tr>\n",
       "    <tr>\n",
       "      <th>5</th>\n",
       "      <td>TRV</td>\n",
       "      <td>The Travelers Companies, Inc.</td>\n",
       "      <td>NYSE</td>\n",
       "      <td>Financial Services</td>\n",
       "      <td>Insurance—Property &amp; Casualty</td>\n",
       "      <td>38.053093</td>\n",
       "      <td>0.481540</td>\n",
       "      <td>0.132920</td>\n",
       "      <td>0.249376</td>\n",
       "      <td>0.280277</td>\n",
       "      <td>0.022685</td>\n",
       "      <td>3.460</td>\n",
       "      <td>0.317382</td>\n",
       "    </tr>\n",
       "    <tr>\n",
       "      <th>6</th>\n",
       "      <td>VZ</td>\n",
       "      <td>Verizon Communications Inc.</td>\n",
       "      <td>NYSE</td>\n",
       "      <td>Communication Services</td>\n",
       "      <td>Telecom Services</td>\n",
       "      <td>225.160430</td>\n",
       "      <td>0.089299</td>\n",
       "      <td>0.281949</td>\n",
       "      <td>0.586553</td>\n",
       "      <td>0.102362</td>\n",
       "      <td>0.046171</td>\n",
       "      <td>2.511</td>\n",
       "      <td>0.110776</td>\n",
       "    </tr>\n",
       "    <tr>\n",
       "      <th>7</th>\n",
       "      <td>INTC</td>\n",
       "      <td>Intel Corporation</td>\n",
       "      <td>NASDAQ</td>\n",
       "      <td>Technology</td>\n",
       "      <td>Semiconductors</td>\n",
       "      <td>215.588979</td>\n",
       "      <td>0.743302</td>\n",
       "      <td>0.231499</td>\n",
       "      <td>0.555936</td>\n",
       "      <td>0.506024</td>\n",
       "      <td>0.025837</td>\n",
       "      <td>1.373</td>\n",
       "      <td>0.374296</td>\n",
       "    </tr>\n",
       "    <tr>\n",
       "      <th>9</th>\n",
       "      <td>JNJ</td>\n",
       "      <td>Johnson &amp; Johnson</td>\n",
       "      <td>NYSE</td>\n",
       "      <td>Healthcare</td>\n",
       "      <td>Drug Manufacturers—General</td>\n",
       "      <td>432.647537</td>\n",
       "      <td>0.338716</td>\n",
       "      <td>0.270051</td>\n",
       "      <td>0.669963</td>\n",
       "      <td>0.012766</td>\n",
       "      <td>0.025166</td>\n",
       "      <td>4.140</td>\n",
       "      <td>0.348304</td>\n",
       "    </tr>\n",
       "    <tr>\n",
       "      <th>19</th>\n",
       "      <td>CSCO</td>\n",
       "      <td>Cisco Systems, Inc.</td>\n",
       "      <td>NASDAQ</td>\n",
       "      <td>Technology</td>\n",
       "      <td>Communication Equipment</td>\n",
       "      <td>236.341068</td>\n",
       "      <td>0.247370</td>\n",
       "      <td>0.266846</td>\n",
       "      <td>0.640210</td>\n",
       "      <td>0.048827</td>\n",
       "      <td>0.026055</td>\n",
       "      <td>1.460</td>\n",
       "      <td>0.433121</td>\n",
       "    </tr>\n",
       "    <tr>\n",
       "      <th>20</th>\n",
       "      <td>MSFT</td>\n",
       "      <td>Microsoft Corporation</td>\n",
       "      <td>NASDAQ</td>\n",
       "      <td>Technology</td>\n",
       "      <td>Software—Infrastructure</td>\n",
       "      <td>2215.614874</td>\n",
       "      <td>1.328849</td>\n",
       "      <td>0.462317</td>\n",
       "      <td>0.689258</td>\n",
       "      <td>0.064902</td>\n",
       "      <td>0.007587</td>\n",
       "      <td>2.240</td>\n",
       "      <td>0.553834</td>\n",
       "    </tr>\n",
       "    <tr>\n",
       "      <th>21</th>\n",
       "      <td>HD</td>\n",
       "      <td>The Home Depot, Inc.</td>\n",
       "      <td>NYSE</td>\n",
       "      <td>Consumer Cyclical</td>\n",
       "      <td>Home Improvement Retail</td>\n",
       "      <td>353.218429</td>\n",
       "      <td>0.813120</td>\n",
       "      <td>7.047047</td>\n",
       "      <td>0.337181</td>\n",
       "      <td>0.173127</td>\n",
       "      <td>0.019272</td>\n",
       "      <td>6.450</td>\n",
       "      <td>1.387776</td>\n",
       "    </tr>\n",
       "    <tr>\n",
       "      <th>27</th>\n",
       "      <td>CVX</td>\n",
       "      <td>Chevron Corporation</td>\n",
       "      <td>NYSE</td>\n",
       "      <td>Energy</td>\n",
       "      <td>Oil &amp; Gas Integrated</td>\n",
       "      <td>183.663444</td>\n",
       "      <td>0.266313</td>\n",
       "      <td>0.026990</td>\n",
       "      <td>0.290348</td>\n",
       "      <td>1.236111</td>\n",
       "      <td>0.055386</td>\n",
       "      <td>5.260</td>\n",
       "      <td>0.254691</td>\n",
       "    </tr>\n",
       "  </tbody>\n",
       "</table>\n",
       "</div>"
      ],
      "text/plain": [
       "   Symbol                            Name Exchange                  Sector  \\\n",
       "1     WBA  Walgreens Boots Alliance, Inc.   NASDAQ              Healthcare   \n",
       "3     NKE                      NIKE, Inc.     NYSE       Consumer Cyclical   \n",
       "5     TRV   The Travelers Companies, Inc.     NYSE      Financial Services   \n",
       "6      VZ     Verizon Communications Inc.     NYSE  Communication Services   \n",
       "7    INTC               Intel Corporation   NASDAQ              Technology   \n",
       "9     JNJ               Johnson & Johnson     NYSE              Healthcare   \n",
       "19   CSCO             Cisco Systems, Inc.   NASDAQ              Technology   \n",
       "20   MSFT           Microsoft Corporation   NASDAQ              Technology   \n",
       "21     HD            The Home Depot, Inc.     NYSE       Consumer Cyclical   \n",
       "27    CVX             Chevron Corporation     NYSE                  Energy   \n",
       "\n",
       "                         Industry  MarketCap(B)  Revenue_Growth       ROE  \\\n",
       "1        Pharmaceutical Retailers     42.150818        0.441947  0.106518   \n",
       "3          Footwear & Accessories    244.794769        0.595383  0.514070   \n",
       "5   Insurance—Property & Casualty     38.053093        0.481540  0.132920   \n",
       "6                Telecom Services    225.160430        0.089299  0.281949   \n",
       "7                  Semiconductors    215.588979        0.743302  0.231499   \n",
       "9      Drug Manufacturers—General    432.647537        0.338716  0.270051   \n",
       "19        Communication Equipment    236.341068        0.247370  0.266846   \n",
       "20        Software—Infrastructure   2215.614874        1.328849  0.462317   \n",
       "21        Home Improvement Retail    353.218429        0.813120  7.047047   \n",
       "27           Oil & Gas Integrated    183.663444        0.266313  0.026990   \n",
       "\n",
       "    GPMargin  EPS_Growth  DivYield    DPS  DPS_Growth  \n",
       "1   0.202202    0.163854  0.038577  1.881    0.304819  \n",
       "3   0.448202    0.043478  0.007114  1.100    0.716614  \n",
       "5   0.249376    0.280277  0.022685  3.460    0.317382  \n",
       "6   0.586553    0.102362  0.046171  2.511    0.110776  \n",
       "7   0.555936    0.506024  0.025837  1.373    0.374296  \n",
       "9   0.669963    0.012766  0.025166  4.140    0.348304  \n",
       "19  0.640210    0.048827  0.026055  1.460    0.433121  \n",
       "20  0.689258    0.064902  0.007587  2.240    0.553834  \n",
       "21  0.337181    0.173127  0.019272  6.450    1.387776  \n",
       "27  0.290348    1.236111  0.055386  5.260    0.254691  "
      ]
     },
     "execution_count": 3,
     "metadata": {},
     "output_type": "execute_result"
    }
   ],
   "source": [
    "# Conditions below indicate that we want the stocks which have positive\n",
    "# Revenue Growth, Gross Profit Margin, EPS Growth, ROE, DPS Growth and Dividend Yield\n",
    "\n",
    "conditions = ((df[\"Revenue_Growth\"] > 0)\n",
    "              & (df[\"GPMargin\"] > 0)\n",
    "              & (df[\"EPS_Growth\"] > 0)\n",
    "              & (df[\"ROE\"] > 0)\n",
    "              & (df[\"DPS_Growth\"] > 0)\n",
    "              & (df[\"DivYield\"] > 0))\n",
    "df = df[conditions]\n",
    "df"
   ]
  },
  {
   "cell_type": "code",
   "execution_count": 4,
   "id": "dad6a1df",
   "metadata": {},
   "outputs": [
    {
     "data": {
      "text/plain": [
       "(10, 13)"
      ]
     },
     "execution_count": 4,
     "metadata": {},
     "output_type": "execute_result"
    }
   ],
   "source": [
    "df.shape # there are 10 stocks which satisfy the financial ratio criteria"
   ]
  },
  {
   "cell_type": "markdown",
   "id": "b4ea17ee",
   "metadata": {},
   "source": [
    "## 3. Trend and Momentum Analysis"
   ]
  },
  {
   "cell_type": "markdown",
   "id": "f5010c12",
   "metadata": {},
   "source": [
    "In terms of analyzing historial prices, there are several measures we can choose. We can simply look at the relationship between current price and long term moving averages to see where the stock is located, calculate historical momentum to select positive momentum stocks or select the stocks which have outperformed the benchmark."
   ]
  },
  {
   "cell_type": "markdown",
   "id": "604eab7d",
   "metadata": {},
   "source": [
    "### 3-1. Select stocks which have outperformed against S&P 500"
   ]
  },
  {
   "cell_type": "markdown",
   "id": "d9b0e725",
   "metadata": {},
   "source": [
    "Since our goal is to outperform the benchmark index which is S&P 500, we can try to select stocks which have outperformed against the benchmark for alpha generation."
   ]
  },
  {
   "cell_type": "markdown",
   "id": "037e5222",
   "metadata": {},
   "source": [
    "### 3-2. Trend analysis using 200 MA"
   ]
  },
  {
   "cell_type": "markdown",
   "id": "d2e26e87",
   "metadata": {},
   "source": [
    "We can also look through the stocks which prices are above 200 MA."
   ]
  },
  {
   "cell_type": "markdown",
   "id": "3b1f4193",
   "metadata": {},
   "source": [
    "### 3-3. Momentum analysis using historical 1Y returns"
   ]
  },
  {
   "cell_type": "code",
   "execution_count": 5,
   "id": "0de3acc7",
   "metadata": {},
   "outputs": [
    {
     "ename": "NameError",
     "evalue": "name 'credentials' is not defined",
     "output_type": "error",
     "traceback": [
      "\u001b[1;31m---------------------------------------------------------------------------\u001b[0m",
      "\u001b[1;31mNameError\u001b[0m                                 Traceback (most recent call last)",
      "\u001b[1;32m<ipython-input-5-43b5b4969c92>\u001b[0m in \u001b[0;36m<module>\u001b[1;34m\u001b[0m\n\u001b[0;32m      7\u001b[0m \u001b[1;32mfor\u001b[0m \u001b[0msymbol\u001b[0m \u001b[1;32min\u001b[0m \u001b[0mdf\u001b[0m\u001b[1;33m[\u001b[0m\u001b[1;34m\"Symbol\"\u001b[0m\u001b[1;33m]\u001b[0m\u001b[1;33m:\u001b[0m\u001b[1;33m\u001b[0m\u001b[1;33m\u001b[0m\u001b[0m\n\u001b[0;32m      8\u001b[0m     \u001b[0mcount\u001b[0m \u001b[1;33m+=\u001b[0m \u001b[1;36m1\u001b[0m\u001b[1;33m\u001b[0m\u001b[1;33m\u001b[0m\u001b[0m\n\u001b[1;32m----> 9\u001b[1;33m     \u001b[0mm12_momentums\u001b[0m\u001b[1;33m.\u001b[0m\u001b[0mappend\u001b[0m\u001b[1;33m(\u001b[0m\u001b[0mfmp\u001b[0m\u001b[1;33m.\u001b[0m\u001b[0mcalculate_hist_momentum\u001b[0m\u001b[1;33m(\u001b[0m\u001b[0msymbol\u001b[0m\u001b[1;33m,\u001b[0m \u001b[1;36m252\u001b[0m\u001b[1;33m)\u001b[0m\u001b[1;33m)\u001b[0m\u001b[1;33m\u001b[0m\u001b[1;33m\u001b[0m\u001b[0m\n\u001b[0m\u001b[0;32m     10\u001b[0m     \u001b[0mm24_momentums\u001b[0m\u001b[1;33m.\u001b[0m\u001b[0mappend\u001b[0m\u001b[1;33m(\u001b[0m\u001b[0mfmp\u001b[0m\u001b[1;33m.\u001b[0m\u001b[0mcalculate_hist_momentum\u001b[0m\u001b[1;33m(\u001b[0m\u001b[0msymbol\u001b[0m\u001b[1;33m,\u001b[0m \u001b[1;36m504\u001b[0m\u001b[1;33m)\u001b[0m\u001b[1;33m)\u001b[0m\u001b[1;33m\u001b[0m\u001b[1;33m\u001b[0m\u001b[0m\n\u001b[0;32m     11\u001b[0m     \u001b[0mm36_momentums\u001b[0m\u001b[1;33m.\u001b[0m\u001b[0mappend\u001b[0m\u001b[1;33m(\u001b[0m\u001b[0mfmp\u001b[0m\u001b[1;33m.\u001b[0m\u001b[0mcalculate_hist_momentum\u001b[0m\u001b[1;33m(\u001b[0m\u001b[0msymbol\u001b[0m\u001b[1;33m,\u001b[0m \u001b[1;36m756\u001b[0m\u001b[1;33m)\u001b[0m\u001b[1;33m)\u001b[0m\u001b[1;33m\u001b[0m\u001b[1;33m\u001b[0m\u001b[0m\n",
      "\u001b[1;32m~\\Desktop\\GitHub\\pyQuant\\src\\fmp.py\u001b[0m in \u001b[0;36mcalculate_hist_momentum\u001b[1;34m(symbol, period)\u001b[0m\n\u001b[0;32m    146\u001b[0m \u001b[1;33m\u001b[0m\u001b[0m\n\u001b[0;32m    147\u001b[0m \u001b[1;32mdef\u001b[0m \u001b[0mcalculate_hist_momentum\u001b[0m\u001b[1;33m(\u001b[0m\u001b[0msymbol\u001b[0m\u001b[1;33m:\u001b[0m \u001b[0mstr\u001b[0m\u001b[1;33m,\u001b[0m \u001b[0mperiod\u001b[0m\u001b[1;33m:\u001b[0m \u001b[0mint\u001b[0m\u001b[1;33m)\u001b[0m\u001b[1;33m:\u001b[0m\u001b[1;33m\u001b[0m\u001b[1;33m\u001b[0m\u001b[0m\n\u001b[1;32m--> 148\u001b[1;33m     \u001b[0mdf\u001b[0m \u001b[1;33m=\u001b[0m \u001b[0mget_daily_prices\u001b[0m\u001b[1;33m(\u001b[0m\u001b[0msymbol\u001b[0m\u001b[1;33m)\u001b[0m\u001b[1;33m\u001b[0m\u001b[1;33m\u001b[0m\u001b[0m\n\u001b[0m\u001b[0;32m    149\u001b[0m     \u001b[0mcurrentPrice\u001b[0m \u001b[1;33m=\u001b[0m \u001b[0mdf\u001b[0m\u001b[1;33m[\u001b[0m\u001b[1;34m\"Close\"\u001b[0m\u001b[1;33m]\u001b[0m\u001b[1;33m.\u001b[0m\u001b[0miloc\u001b[0m\u001b[1;33m[\u001b[0m\u001b[1;33m-\u001b[0m\u001b[1;36m1\u001b[0m\u001b[1;33m]\u001b[0m\u001b[1;33m\u001b[0m\u001b[1;33m\u001b[0m\u001b[0m\n\u001b[0;32m    150\u001b[0m     \u001b[0mprevPrice\u001b[0m \u001b[1;33m=\u001b[0m \u001b[0mdf\u001b[0m\u001b[1;33m[\u001b[0m\u001b[1;34m\"Close\"\u001b[0m\u001b[1;33m]\u001b[0m\u001b[1;33m.\u001b[0m\u001b[0miloc\u001b[0m\u001b[1;33m[\u001b[0m\u001b[1;33m-\u001b[0m\u001b[0mperiod\u001b[0m\u001b[1;33m]\u001b[0m\u001b[1;33m\u001b[0m\u001b[1;33m\u001b[0m\u001b[0m\n",
      "\u001b[1;32m~\\Desktop\\GitHub\\pyQuant\\src\\fmp.py\u001b[0m in \u001b[0;36mget_daily_prices\u001b[1;34m(symbol)\u001b[0m\n\u001b[0;32m    115\u001b[0m \u001b[1;32mdef\u001b[0m \u001b[0mget_daily_prices\u001b[0m\u001b[1;33m(\u001b[0m\u001b[0msymbol\u001b[0m\u001b[1;33m)\u001b[0m\u001b[1;33m:\u001b[0m\u001b[1;33m\u001b[0m\u001b[1;33m\u001b[0m\u001b[0m\n\u001b[0;32m    116\u001b[0m     data = requests.get(\n\u001b[1;32m--> 117\u001b[1;33m         \u001b[1;34mf\"https://financialmodelingprep.com/api/v3/historical-price-full/{symbol}?apikey={credentials.FMP_API_KEYS}\"\u001b[0m\u001b[1;33m\u001b[0m\u001b[1;33m\u001b[0m\u001b[0m\n\u001b[0m\u001b[0;32m    118\u001b[0m     ).json()\n\u001b[0;32m    119\u001b[0m     \u001b[0mdf_data\u001b[0m \u001b[1;33m=\u001b[0m \u001b[1;33m{\u001b[0m\u001b[1;34m\"Date\"\u001b[0m\u001b[1;33m:\u001b[0m \u001b[1;33m[\u001b[0m\u001b[1;33m]\u001b[0m\u001b[1;33m,\u001b[0m \u001b[1;34m\"Open\"\u001b[0m\u001b[1;33m:\u001b[0m \u001b[1;33m[\u001b[0m\u001b[1;33m]\u001b[0m\u001b[1;33m,\u001b[0m \u001b[1;34m\"High\"\u001b[0m\u001b[1;33m:\u001b[0m \u001b[1;33m[\u001b[0m\u001b[1;33m]\u001b[0m\u001b[1;33m,\u001b[0m \u001b[1;34m\"Low\"\u001b[0m\u001b[1;33m:\u001b[0m \u001b[1;33m[\u001b[0m\u001b[1;33m]\u001b[0m\u001b[1;33m,\u001b[0m \u001b[1;34m\"Close\"\u001b[0m\u001b[1;33m:\u001b[0m \u001b[1;33m[\u001b[0m\u001b[1;33m]\u001b[0m\u001b[1;33m}\u001b[0m\u001b[1;33m\u001b[0m\u001b[1;33m\u001b[0m\u001b[0m\n",
      "\u001b[1;31mNameError\u001b[0m: name 'credentials' is not defined"
     ]
    }
   ],
   "source": [
    "# Compute historical momentum\n",
    "\n",
    "m12_momentums = []\n",
    "m24_momentums = []\n",
    "m36_momentums = []\n",
    "count = 0\n",
    "for symbol in df[\"Symbol\"]:\n",
    "    count += 1\n",
    "    m12_momentums.append(fmp.calculate_hist_momentum(symbol, 252))\n",
    "    m24_momentums.append(fmp.calculate_hist_momentum(symbol, 504))\n",
    "    m36_momentums.append(fmp.calculate_hist_momentum(symbol, 756))\n",
    "\n",
    "df[\"m12_momentum\"] = m12_momentums\n",
    "df[\"m24_momentum\"] = m24_momentums\n",
    "df[\"m36_momentum\"] = m36_momentums\n",
    "\n",
    "positive_mom_stocks = df[(df['m12_momentum'] > 0) & (df['m24_momentum'] > 0)\n",
    "                         & (df['m36_momentum'] > 0)]\n",
    "positive_mom_stocks"
   ]
  },
  {
   "cell_type": "markdown",
   "id": "acc6b494",
   "metadata": {},
   "source": [
    "## 4. Calculate stocks' current discount rate from 52W high"
   ]
  },
  {
   "cell_type": "markdown",
   "id": "f06a81ee",
   "metadata": {},
   "source": [
    "We don't want to buy the stocks when they are expensive. We want to wait until they are traded at discount or buy at pullback."
   ]
  },
  {
   "cell_type": "code",
   "execution_count": null,
   "id": "e213de47",
   "metadata": {},
   "outputs": [],
   "source": [
    "watchlist = positive_mom_stocks[[\"symbol\", \"name\"]].copy()\n",
    "\n",
    "# Update current prices, 52W High and Discount %\n",
    "\n",
    "currentPrices = []\n",
    "highs = []\n",
    "discounts = []\n",
    "count = 0\n",
    "\n",
    "for symbol in watchlist[\"symbol\"]:\n",
    "    count += 1\n",
    "    print(f\"{symbol}: {count}/{len(watchlist['symbol'])}\")\n",
    "    currentPrice = fmp.get_current_price(symbol)\n",
    "    high = fmp.calculate_prev_max_high(symbol, 252)\n",
    "    discount_pct = (currentPrice - high) / high * 100\n",
    "\n",
    "    currentPrices.append(currentPrice)\n",
    "    highs.append(high)\n",
    "    discounts.append(discount_pct)\n",
    "\n",
    "watchlist[\"Current Price\"] = currentPrices\n",
    "watchlist[\"52W_High\"] = highs\n",
    "watchlist[\"Discount (%)\"] = discounts\n",
    "\n",
    "watchlist = watchlist.sort_values(by=\"Discount (%)\")\n",
    "watchlist"
   ]
  },
  {
   "cell_type": "markdown",
   "id": "51e0ad7d",
   "metadata": {},
   "source": [
    "### Example: Consider buying if discounted more than 15% from 52W high"
   ]
  },
  {
   "cell_type": "code",
   "execution_count": null,
   "id": "80ae6bf4",
   "metadata": {},
   "outputs": [],
   "source": [
    "buylist = watchlist[watchlist['Discount (%)'] < -15]\n",
    "buylist"
   ]
  },
  {
   "cell_type": "code",
   "execution_count": null,
   "id": "cae507e8",
   "metadata": {},
   "outputs": [],
   "source": [
    "#!jupyter nbconvert --to script --no-prompt analysis.ipynb"
   ]
  }
 ],
 "metadata": {
  "kernelspec": {
   "display_name": "Python 3",
   "language": "python",
   "name": "python3"
  },
  "language_info": {
   "codemirror_mode": {
    "name": "ipython",
    "version": 3
   },
   "file_extension": ".py",
   "mimetype": "text/x-python",
   "name": "python",
   "nbconvert_exporter": "python",
   "pygments_lexer": "ipython3",
   "version": "3.8.10"
  },
  "toc": {
   "base_numbering": 1,
   "nav_menu": {},
   "number_sections": false,
   "sideBar": true,
   "skip_h1_title": true,
   "title_cell": "Table of Contents",
   "title_sidebar": "Contents",
   "toc_cell": false,
   "toc_position": {},
   "toc_section_display": true,
   "toc_window_display": false
  },
  "varInspector": {
   "cols": {
    "lenName": 16,
    "lenType": 16,
    "lenVar": 40
   },
   "kernels_config": {
    "python": {
     "delete_cmd_postfix": "",
     "delete_cmd_prefix": "del ",
     "library": "var_list.py",
     "varRefreshCmd": "print(var_dic_list())"
    },
    "r": {
     "delete_cmd_postfix": ") ",
     "delete_cmd_prefix": "rm(",
     "library": "var_list.r",
     "varRefreshCmd": "cat(var_dic_list()) "
    }
   },
   "types_to_exclude": [
    "module",
    "function",
    "builtin_function_or_method",
    "instance",
    "_Feature"
   ],
   "window_display": false
  }
 },
 "nbformat": 4,
 "nbformat_minor": 5
}
