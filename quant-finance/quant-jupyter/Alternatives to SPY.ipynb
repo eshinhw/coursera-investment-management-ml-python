{
 "cells": [
  {
   "cell_type": "markdown",
   "id": "29036a03",
   "metadata": {},
   "source": [
    "# Alternatives to SPY"
   ]
  },
  {
   "cell_type": "markdown",
   "id": "bc84d93b",
   "metadata": {},
   "source": [
    "When it comes to investing in the stock market, we usually refer to the U.S. stock market which is S&P 500 (SPY in ETF). However, there may be better alternatives to SPY which have performed better than SPY in history. In order to determine better alternatives, we have to keep track of the performance of other equities instruments.\n",
    "\n",
    "- Dividend Aristocrats ETF (Dividend factor has outperformed...?) invest only when pricing is extremely cheap (high div. yield)\n",
    "- Global stock ETF indices (US may not be the best performing market in the world)"
   ]
  },
  {
   "cell_type": "markdown",
   "id": "963bd303",
   "metadata": {},
   "source": []
  }
 ],
 "metadata": {
  "kernelspec": {
   "display_name": "Python 3",
   "language": "python",
   "name": "python3"
  },
  "language_info": {
   "codemirror_mode": {
    "name": "ipython",
    "version": 3
   },
   "file_extension": ".py",
   "mimetype": "text/x-python",
   "name": "python",
   "nbconvert_exporter": "python",
   "pygments_lexer": "ipython3",
   "version": "3.8.10"
  },
  "toc": {
   "base_numbering": 1,
   "nav_menu": {},
   "number_sections": false,
   "sideBar": true,
   "skip_h1_title": true,
   "title_cell": "Table of Contents",
   "title_sidebar": "Contents",
   "toc_cell": false,
   "toc_position": {},
   "toc_section_display": true,
   "toc_window_display": false
  },
  "varInspector": {
   "cols": {
    "lenName": 16,
    "lenType": 16,
    "lenVar": 40
   },
   "kernels_config": {
    "python": {
     "delete_cmd_postfix": "",
     "delete_cmd_prefix": "del ",
     "library": "var_list.py",
     "varRefreshCmd": "print(var_dic_list())"
    },
    "r": {
     "delete_cmd_postfix": ") ",
     "delete_cmd_prefix": "rm(",
     "library": "var_list.r",
     "varRefreshCmd": "cat(var_dic_list()) "
    }
   },
   "types_to_exclude": [
    "module",
    "function",
    "builtin_function_or_method",
    "instance",
    "_Feature"
   ],
   "window_display": false
  }
 },
 "nbformat": 4,
 "nbformat_minor": 5
}
