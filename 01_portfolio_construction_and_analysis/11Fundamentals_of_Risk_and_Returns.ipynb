{
 "cells": [
  {
   "cell_type": "markdown",
   "id": "7229103a",
   "metadata": {},
   "source": [
    "# Fundamentals of Risk and Returns"
   ]
  },
  {
   "cell_type": "markdown",
   "id": "0567f9bc",
   "metadata": {},
   "source": [
    "## From Prices to Returns"
   ]
  },
  {
   "cell_type": "markdown",
   "id": "0a612ff1",
   "metadata": {},
   "source": [
    "$$R_{t,t+1} = \\frac{P_{t+1} - P_t}{P_t}$$"
   ]
  },
  {
   "cell_type": "markdown",
   "id": "b1d9ca77",
   "metadata": {},
   "source": [
    "The return on the asset is nothing more than the price difference between two periods."
   ]
  }
 ],
 "metadata": {
  "kernelspec": {
   "display_name": "Python 3 (ipykernel)",
   "language": "python",
   "name": "python3"
  },
  "language_info": {
   "codemirror_mode": {
    "name": "ipython",
    "version": 3
   },
   "file_extension": ".py",
   "mimetype": "text/x-python",
   "name": "python",
   "nbconvert_exporter": "python",
   "pygments_lexer": "ipython3",
   "version": "3.9.16"
  }
 },
 "nbformat": 4,
 "nbformat_minor": 5
}
