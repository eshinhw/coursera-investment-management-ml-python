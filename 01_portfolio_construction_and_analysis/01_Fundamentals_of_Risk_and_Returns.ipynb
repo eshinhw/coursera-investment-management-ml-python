{
 "cells": [
  {
   "cell_type": "markdown",
   "id": "7229103a",
   "metadata": {},
   "source": [
    "# Fundamentals of Risk and Returns"
   ]
  },
  {
   "cell_type": "markdown",
   "id": "0567f9bc",
   "metadata": {},
   "source": [
    "## Simple Price Return"
   ]
  },
  {
   "cell_type": "markdown",
   "id": "0a612ff1",
   "metadata": {},
   "source": [
    "$$\\large R_{t,t+1} = \\frac{P_{t+1} - P_t}{P_t}$$"
   ]
  },
  {
   "cell_type": "markdown",
   "id": "b1d9ca77",
   "metadata": {},
   "source": [
    "- The simple price return on the asset is nothing more than the price difference between two periods."
   ]
  },
  {
   "cell_type": "markdown",
   "id": "80dc0550",
   "metadata": {},
   "source": [
    "## Total Return: Price Return with Dividend"
   ]
  },
  {
   "cell_type": "markdown",
   "id": "adb1dc8f",
   "metadata": {},
   "source": [
    "$$\\large R_{t,t+1} = \\frac{ P_{t+1} + D_{t,t+1} }{P_t} - 1 = \\frac{ P_{t+1} + D_{t,t+1} - P_t }{P_t}$$"
   ]
  },
  {
   "cell_type": "markdown",
   "id": "8c575c54",
   "metadata": {},
   "source": [
    "- The total return includes dividend payments for the holding period."
   ]
  },
  {
   "cell_type": "markdown",
   "id": "33d2c36a",
   "metadata": {},
   "source": [
    "## Multi Period Returns"
   ]
  },
  {
   "cell_type": "markdown",
   "id": "ab40eb35",
   "metadata": {},
   "source": [
    "$$\\large R_{t,t+2} = (1 + R_{t,t+1})(1+R_{t+1,t+2}) - 1$$"
   ]
  },
  {
   "cell_type": "markdown",
   "id": "87a84816",
   "metadata": {},
   "source": [
    "**Example**: You buy a stock that returns 10% on the first day and returns -3% on the second day.\n"
   ]
  },
  {
   "cell_type": "markdown",
   "id": "57db8199",
   "metadata": {},
   "source": [
    "$$R_{t,t+2} = (1 + 0.10)(1 - 0.03) - 1 = 0.067 = 6.70\\%$$"
   ]
  },
  {
   "cell_type": "markdown",
   "id": "0613d68d",
   "metadata": {},
   "source": [
    "## Annualizing Returns"
   ]
  },
  {
   "cell_type": "markdown",
   "id": "e6c482d3",
   "metadata": {},
   "source": [
    "**Annualized Returns** is the return you would get if the return that you are looking at has continued for a year. The return over the month is 1%. The annualized return would be $((1+0.01)^{12} - 1) = 0.12683 = 12.68\\%$."
   ]
  },
  {
   "cell_type": "markdown",
   "id": "de8b5692",
   "metadata": {},
   "source": [
    "## Volatility - Standard Deviation and Variance"
   ]
  },
  {
   "cell_type": "markdown",
   "id": "3b118fb0",
   "metadata": {},
   "source": [
    "We compute the average of the square of the deviations from the mean. This measure is called Variance and is computed as follows.\n",
    "$$\\large \\sigma^2_{R} = \\frac{1}{N}\\Sigma_{i=1}^{N} (R_i - \\bar{R})^2$$ where $\\bar{R}$ is the arithmetic mean of the returns.\n",
    "\n",
    "Variance measures how much each return deviates from the mean of the returns. In other words, Variance represents the average of deviations.\n",
    "\n",
    "If we take the square root of Variance, we get **Standard Deviation** and is computed as follows.\n",
    "\n",
    "$$\\large \\sigma_{R} = \\sqrt{\\frac{1}{N}\\Sigma_{i=1}^{N} (R_i - \\bar{R})^2}$$ where $\\bar{R}$ is the arithmetic mean of the returns."
   ]
  },
  {
   "cell_type": "markdown",
   "id": "a06bdc04",
   "metadata": {},
   "source": [
    "## Annualized Volatility"
   ]
  },
  {
   "cell_type": "markdown",
   "id": "a650041e",
   "metadata": {},
   "source": [
    "We can't compare the volatility from daily data with the volatility from monthly data.\n",
    "\n",
    "$$\\large \\sigma_{annualized} = \\sigma_p \\sqrt{p}$$\n",
    "\n",
    "There are approximately 252 trading days per calendar year.\n",
    "\n",
    "For example, if the standard deviation of a stock's daily return series is 0.1%. If we annualize it, we get\n",
    "\n",
    "$$\\sigma_{annualized} = 0.001 \\times \\sqrt{252} = 1.58\\%$$\n",
    "\n",
    "Daily to Annualized: $p=252$\n",
    "\n",
    "Monthly to Annualized: $p=12$\n",
    "\n",
    "Quarterly to Annualized: $p=4$"
   ]
  },
  {
   "cell_type": "markdown",
   "id": "ef0228fc",
   "metadata": {},
   "source": [
    "## Sharpe Ratio: Risk Adjusted Measures"
   ]
  },
  {
   "cell_type": "markdown",
   "id": "50a14fc3",
   "metadata": {},
   "source": [
    "We should look at its excess return over the risk free rate.\n",
    "\n",
    "$$\\large \\text{Sharpe Ratio = } \\frac{R_{p} - R_{f}}{\\sigma_{p}} = \\frac{\\text{Portfolio Return - Risk Free Rate}}{\\text{Volatility}}$$"
   ]
  },
  {
   "cell_type": "markdown",
   "id": "7d7669c5",
   "metadata": {},
   "source": [
    "## Maximum Drawdown"
   ]
  },
  {
   "cell_type": "markdown",
   "id": "38af49e6",
   "metadata": {},
   "source": [
    "The **Maximum Drawdown** is the maximum loss from the previous high to a subsequent low. Assume you buy an asset at its highest value and sell at the bottom. It's the worst return you possible get from the peak to the trough you could experience over the time. In other words, it's the worst possible return you could have seen if you **bought high and sold low**. It's one of the worst case measures."
   ]
  },
  {
   "cell_type": "markdown",
   "id": "ed9607d4",
   "metadata": {},
   "source": [
    "### Constructing a Wealth Index"
   ]
  },
  {
   "cell_type": "markdown",
   "id": "d6961139",
   "metadata": {},
   "source": [
    "1. Computing drawdowns is to construct a wealth index hypothetical buy-and-hold investment in the asset.\n",
    "2. Look at the prior peak at any point in time.\n",
    "3. We can plot the drawdowns over time to be able to see how long it takes to recover from the drawdowns."
   ]
  },
  {
   "cell_type": "markdown",
   "id": "e2ba6b12",
   "metadata": {},
   "source": [
    "You might wonder if the drawdown risk can be used as the denominator in a manner similar to using the volatility of the asset in the Sharpe Ratio. The **Calmar Ratio** is defined as the ratio of the annualized return over the trailing 36 months to the maximum drawdown over those trailing 36 months."
   ]
  },
  {
   "cell_type": "markdown",
   "id": "6f2e427d",
   "metadata": {},
   "source": [
    "### Some Cautionary Notes about Drawdowns"
   ]
  },
  {
   "cell_type": "markdown",
   "id": "a986993d",
   "metadata": {},
   "source": [
    "It is important to note that they are a far from perfect measure. For instance, they are entirely defined by two points and hence are very **sensitive to outliers**. Second, they depend on the frequency of observations in general. A very deep drawdown on a daily or weekly basis might almost completely disappear or move to very different location based on monthly data. In other words, the drawdown on daily basis is very different from the drawdown on weekly basis. Thus, drawdowns are sensitive to time horizon. In spite of these shortcomings, drawdowns are closely monitored and popular amongst practitioners even though other measures like **VaR** and **CVaR** are more robust measures of extreme risk."
   ]
  }
 ],
 "metadata": {
  "kernelspec": {
   "display_name": "Python 3 (ipykernel)",
   "language": "python",
   "name": "python3"
  },
  "language_info": {
   "codemirror_mode": {
    "name": "ipython",
    "version": 3
   },
   "file_extension": ".py",
   "mimetype": "text/x-python",
   "name": "python",
   "nbconvert_exporter": "python",
   "pygments_lexer": "ipython3",
   "version": "3.9.16"
  }
 },
 "nbformat": 4,
 "nbformat_minor": 5
}
