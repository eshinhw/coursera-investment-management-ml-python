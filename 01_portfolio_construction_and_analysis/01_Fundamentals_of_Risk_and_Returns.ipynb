{
 "cells": [
  {
   "cell_type": "markdown",
   "id": "7229103a",
   "metadata": {},
   "source": [
    "# Fundamentals of Risk and Returns"
   ]
  },
  {
   "cell_type": "markdown",
   "id": "0567f9bc",
   "metadata": {},
   "source": [
    "## Simple Price Return"
   ]
  },
  {
   "cell_type": "markdown",
   "id": "0a612ff1",
   "metadata": {},
   "source": [
    "$$\\large R_{t,t+1} = \\frac{P_{t+1} - P_t}{P_t}$$"
   ]
  },
  {
   "cell_type": "markdown",
   "id": "b1d9ca77",
   "metadata": {},
   "source": [
    "- The simple price return on the asset is nothing more than the price difference between two periods."
   ]
  },
  {
   "cell_type": "markdown",
   "id": "80dc0550",
   "metadata": {},
   "source": [
    "## Total Return: Price Return with Dividend"
   ]
  },
  {
   "cell_type": "markdown",
   "id": "adb1dc8f",
   "metadata": {},
   "source": [
    "$$\\large R_{t,t+1} = \\frac{ P_{t+1} + D_{t,t+1} }{P_t} - 1 = \\frac{ P_{t+1} + D_{t,t+1} - P_t }{P_t}$$"
   ]
  },
  {
   "cell_type": "markdown",
   "id": "8c575c54",
   "metadata": {},
   "source": [
    "- The total return includes dividend payments for the holding period."
   ]
  },
  {
   "cell_type": "markdown",
   "id": "33d2c36a",
   "metadata": {},
   "source": [
    "## Multi Period Returns"
   ]
  },
  {
   "cell_type": "markdown",
   "id": "ab40eb35",
   "metadata": {},
   "source": [
    "$$\\large R_{t,t+2} = (1 + R_{t,t+1})(1+R_{t+1,t+2}) - 1$$"
   ]
  },
  {
   "cell_type": "markdown",
   "id": "87a84816",
   "metadata": {},
   "source": [
    "**Example**: You buy a stock that returns 10% on the first day and returns -3% on the second day.\n"
   ]
  },
  {
   "cell_type": "markdown",
   "id": "57db8199",
   "metadata": {},
   "source": [
    "$$R_{t,t+2} = (1 + 0.10)(1 - 0.03) - 1 = 0.067 = 6.70\\%$$"
   ]
  },
  {
   "cell_type": "markdown",
   "id": "0613d68d",
   "metadata": {},
   "source": [
    "## Annualizing Returns"
   ]
  },
  {
   "cell_type": "markdown",
   "id": "e6c482d3",
   "metadata": {},
   "source": [
    "**Annualized Returns** is the return you would get if the return that you are looking at has continued for a year. The return over the month is 1%. The annualized return would be $((1+0.01)^{12} - 1) = 0.12683 = 12.68\\%$."
   ]
  },
  {
   "cell_type": "markdown",
   "id": "de8b5692",
   "metadata": {},
   "source": [
    "## Volatility - Standard Deviation and Variance"
   ]
  },
  {
   "cell_type": "markdown",
   "id": "3b118fb0",
   "metadata": {},
   "source": [
    "We compute the average of the square of the deviations from the mean. This measure is called Variance and is computed as follows.\n",
    "$$\\large \\sigma^2_{R} = \\frac{1}{N}\\Sigma_{i=1}^{N} (R_i - \\bar{R})^2$$ where $\\bar{R}$ is the arithmetic mean of the returns.\n",
    "\n",
    "Variance measures how much each return deviates from the mean of the returns. In other words, Variance represents the average of deviations.\n",
    "\n",
    "If we take the square root of Variance, we get **Standard Deviation** and is computed as follows.\n",
    "\n",
    "$$\\large \\sigma_{R} = \\sqrt{\\frac{1}{N}\\Sigma_{i=1}^{N} (R_i - \\bar{R})^2}$$ where $\\bar{R}$ is the arithmetic mean of the returns."
   ]
  },
  {
   "cell_type": "code",
   "execution_count": 73,
   "id": "de363666",
   "metadata": {},
   "outputs": [
    {
     "data": {
      "text/plain": [
       "Close    0.014428\n",
       "dtype: float64"
      ]
     },
     "execution_count": 73,
     "metadata": {},
     "output_type": "execute_result"
    }
   ],
   "source": [
    "returns.std()"
   ]
  },
  {
   "cell_type": "code",
   "execution_count": 77,
   "id": "55da210d",
   "metadata": {},
   "outputs": [
    {
     "data": {
      "text/plain": [
       "Close    0.014043\n",
       "dtype: float64"
      ]
     },
     "execution_count": 77,
     "metadata": {},
     "output_type": "execute_result"
    }
   ],
   "source": [
    "deviations = returns - returns.mean()\n",
    "squared_deviations = deviations**2\n",
    "variance = squared_deviations.mean()\n",
    "volatility = np.sqrt(variance) # variance**0.5\n",
    "volatility"
   ]
  },
  {
   "cell_type": "markdown",
   "id": "a66edafa",
   "metadata": {},
   "source": [
    "The two values don't match exactly. `std()` method uses $N-1$ while our method uses $N$ when we compute `mean()`. In other words, there is a difference between Sample STD and Population STD."
   ]
  },
  {
   "cell_type": "code",
   "execution_count": 86,
   "id": "fb728e98",
   "metadata": {},
   "outputs": [
    {
     "data": {
      "text/plain": [
       "Close    0.014428\n",
       "dtype: float64"
      ]
     },
     "execution_count": 86,
     "metadata": {},
     "output_type": "execute_result"
    }
   ],
   "source": [
    "deviations = returns - returns.mean()\n",
    "squared_deviations = deviations**2\n",
    "num_obs = returns.dropna().shape[0]\n",
    "variance = squared_deviations.sum()/(num_obs - 1)\n",
    "volatility = np.sqrt(variance)\n",
    "volatility"
   ]
  },
  {
   "cell_type": "code",
   "execution_count": 83,
   "id": "3beea0a1",
   "metadata": {
    "scrolled": true
   },
   "outputs": [
    {
     "data": {
      "text/plain": [
       "Close    0.014428\n",
       "dtype: float64"
      ]
     },
     "execution_count": 83,
     "metadata": {},
     "output_type": "execute_result"
    }
   ],
   "source": [
    "returns.std()"
   ]
  },
  {
   "cell_type": "markdown",
   "id": "c6fdd4b1",
   "metadata": {},
   "source": [
    "We can confirm that now the two values are matched with $0.014428$."
   ]
  },
  {
   "cell_type": "markdown",
   "id": "a06bdc04",
   "metadata": {},
   "source": [
    "## Annualized Volatility"
   ]
  },
  {
   "cell_type": "markdown",
   "id": "a650041e",
   "metadata": {},
   "source": [
    "We can't compare the volatility from daily data with the volatility from monthly data.\n",
    "\n",
    "$$\\large \\sigma_{annualized} = \\sigma_p \\sqrt{p}$$\n",
    "\n",
    "There are approximately 252 trading days per calendar year.\n",
    "\n",
    "For example, if the standard deviation of a stock's daily return series is 0.1%. If we annualize it, we get\n",
    "\n",
    "$$\\sigma_{annualized} = 0.001 \\times \\sqrt{252} = 1.58\\%$$\n",
    "\n",
    "Daily to Annualized: $p=252$\n",
    "\n",
    "Monthly to Annualized: $p=12$\n",
    "\n",
    "Quarterly to Annualized: $p=4$"
   ]
  },
  {
   "cell_type": "markdown",
   "id": "ef0228fc",
   "metadata": {},
   "source": [
    "## Sharpe Ratio: Risk Adjusted Measures"
   ]
  },
  {
   "cell_type": "markdown",
   "id": "50a14fc3",
   "metadata": {},
   "source": [
    "We should look at its excess return over the risk free rate.\n",
    "\n",
    "$$\\large \\text{Sharpe Ratio = } \\frac{R_{p} - R_{f}}{\\sigma_{p}} = \\frac{\\text{RETURN MINUS RISK FREE RATE}}{\\text{VOLATILITY}}$$\n",
    "\n",
    "$$\\text{EXCESS RETURN = RETURN OVER THE RISK FREE RATE = RETURN MINUS RISK FREE RATE}$$"
   ]
  },
  {
   "cell_type": "code",
   "execution_count": null,
   "id": "0179ed92",
   "metadata": {},
   "outputs": [],
   "source": []
  }
 ],
 "metadata": {
  "kernelspec": {
   "display_name": "Python 3 (ipykernel)",
   "language": "python",
   "name": "python3"
  },
  "language_info": {
   "codemirror_mode": {
    "name": "ipython",
    "version": 3
   },
   "file_extension": ".py",
   "mimetype": "text/x-python",
   "name": "python",
   "nbconvert_exporter": "python",
   "pygments_lexer": "ipython3",
   "version": "3.9.16"
  }
 },
 "nbformat": 4,
 "nbformat_minor": 5
}
