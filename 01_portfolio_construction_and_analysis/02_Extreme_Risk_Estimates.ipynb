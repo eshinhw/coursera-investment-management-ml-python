{
 "cells": [
  {
   "cell_type": "markdown",
   "id": "d782a4f0",
   "metadata": {},
   "source": [
    "# Deviations from Normality"
   ]
  },
  {
   "cell_type": "markdown",
   "id": "75b5bb87",
   "metadata": {},
   "source": [
    "The Gaussian Assumption: Standard simplifying assumption - asset returns are normally distributed. However, in reality, large changes are more frequent. Thus, the normal distribution assumption on asset returns underestimate the magnitude of actual extreme returns.\n",
    "\n",
    "In order to incorporate the reality, we should look at higher order moments: Skewness and Kurtosis."
   ]
  },
  {
   "cell_type": "markdown",
   "id": "5d52264a",
   "metadata": {},
   "source": [
    "## Skewness"
   ]
  },
  {
   "cell_type": "markdown",
   "id": "57221860",
   "metadata": {},
   "source": [
    "Skewness is a measure of symmetry, or more precisely, the lack of symmetry. A distribution, or data set, is symmetric if it looks the same to the left and right of the center point."
   ]
  },
  {
   "cell_type": "markdown",
   "id": "42ec2f42",
   "metadata": {},
   "source": [
    "$$Skewness\\ (R) = \\frac{E[(R - E(R))^3]}{[Var(R)]^{3/2}}$$"
   ]
  },
  {
   "cell_type": "markdown",
   "id": "301467a9",
   "metadata": {},
   "source": [
    "## Kurtosis"
   ]
  },
  {
   "cell_type": "markdown",
   "id": "a284c225",
   "metadata": {},
   "source": [
    "Kurtosis is a measure of whether the data are heavy-tailed or light-tailed relative to a normal distribution. That is, data sets with high kurtosis tend to have heavy tails, or outliers. Data sets with low kurtosis tend to have light tails, or lack of outliers. A uniform distribution would be the extreme case."
   ]
  },
  {
   "cell_type": "markdown",
   "id": "a85584c6",
   "metadata": {},
   "source": [
    "$$Kurtosis\\ (R) = \\frac{E[(R-E(R))^4]}{[Var(R)]^2}$$"
   ]
  },
  {
   "cell_type": "markdown",
   "id": "2c49f81e",
   "metadata": {},
   "source": [
    "Using volatility as a risk estimate for a negatively skew distribution may lead to underestimate the tail risk associated to strong negative returns.\n",
    "\n",
    "- Asset returns are not normally distributed.\n",
    "- Deviations from normality can be severe."
   ]
  },
  {
   "cell_type": "markdown",
   "id": "56c86b71",
   "metadata": {},
   "source": [
    "# Downside Risk Measures"
   ]
  },
  {
   "cell_type": "markdown",
   "id": "7cb0bf6b",
   "metadata": {},
   "source": [
    "## Semi-Deviation"
   ]
  },
  {
   "cell_type": "markdown",
   "id": "349b981a",
   "metadata": {},
   "source": [
    "**Semi-Deviation** is the volatility of the sub-sample of below-average or below-zero returns. Investors are more interested in downside volatility below the mean or below zero."
   ]
  },
  {
   "cell_type": "markdown",
   "id": "03cc27df",
   "metadata": {},
   "source": [
    "$$\\sigma_{semi} = \\sqrt{\\frac{1}{N}\\Sigma_{R_t \\leq \\bar{R}} (R_t - \\bar{R})^2}$$"
   ]
  },
  {
   "cell_type": "markdown",
   "id": "3b7d429e",
   "metadata": {},
   "source": [
    "where $N$ is the number of returns that fall below the mean."
   ]
  },
  {
   "cell_type": "markdown",
   "id": "5e870ed5",
   "metadata": {},
   "source": [
    "## Value at Risk (VaR)"
   ]
  },
  {
   "cell_type": "markdown",
   "id": "b0d9071c",
   "metadata": {},
   "source": [
    "**Value At Risk (VaR)** represents the maximum expected loss over a given time period.\n",
    "\n",
    "99% Monthly VaR means that we are looking at the worst possible outcome after excluding the 1% extreme losses over a 1 month holding period.\n",
    "\n",
    "For example, consider the following sequence of monthly returns on a portfolio:\n",
    "\n",
    "$$[-4\\%, 5\\%, 2\\%, -7\\%, 1\\%, 0.5\\%, -2\\%, -1\\%, -2\\%, 5\\%]$$\n",
    "\n",
    "What is the 90% monthly VaR for the portfolio?\n",
    "\n",
    "After excluding the 10% worst return, which is -7%, the 90% monthly VaR should be 4%."
   ]
  },
  {
   "cell_type": "markdown",
   "id": "3ba318b6",
   "metadata": {},
   "source": [
    "## Conditional VaR"
   ]
  },
  {
   "cell_type": "markdown",
   "id": "3e39bd7e",
   "metadata": {},
   "source": [
    "**Conditional VaR = Expected Loss Beyond VaR** \n",
    "\n",
    "$$CVaR = -E(R|R \\leq -VaR) = \\frac{ -\\int_{-\\infty}^{-VaR} x f_{R} (x)dx }{F_R (-VaR)} $$"
   ]
  },
  {
   "cell_type": "markdown",
   "id": "eb729eee",
   "metadata": {},
   "source": [
    "Uncertainty on the downside is what investors are most concerned about and they want to know about potential large losses. VaR provides an estimate of potential loss at a given confidence level."
   ]
  },
  {
   "cell_type": "code",
   "execution_count": null,
   "id": "3b6a9f5f",
   "metadata": {},
   "outputs": [],
   "source": []
  }
 ],
 "metadata": {
  "kernelspec": {
   "display_name": "Python 3 (ipykernel)",
   "language": "python",
   "name": "python3"
  },
  "language_info": {
   "codemirror_mode": {
    "name": "ipython",
    "version": 3
   },
   "file_extension": ".py",
   "mimetype": "text/x-python",
   "name": "python",
   "nbconvert_exporter": "python",
   "pygments_lexer": "ipython3",
   "version": "3.9.16"
  },
  "toc": {
   "base_numbering": 1,
   "nav_menu": {},
   "number_sections": true,
   "sideBar": true,
   "skip_h1_title": true,
   "title_cell": "Table of Contents",
   "title_sidebar": "Contents",
   "toc_cell": true,
   "toc_position": {},
   "toc_section_display": true,
   "toc_window_display": true
  }
 },
 "nbformat": 4,
 "nbformat_minor": 5
}
