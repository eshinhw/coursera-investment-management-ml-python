{
 "cells": [
  {
   "cell_type": "code",
   "execution_count": 41,
   "id": "7e0dd032",
   "metadata": {},
   "outputs": [],
   "source": [
    "import requests\n",
    "import pandas as pd\n",
    "import matplotlib.pyplot as plt\n",
    "import yfinance as yf\n",
    "import datetime as dt"
   ]
  },
  {
   "cell_type": "code",
   "execution_count": 46,
   "id": "c61a8ce6",
   "metadata": {},
   "outputs": [
    {
     "data": {
      "text/plain": [
       "Date\n",
       "1962-02-13 00:00:00-05:00    0.000579\n",
       "1962-05-22 00:00:00-04:00    0.000579\n",
       "1962-08-21 00:00:00-04:00    0.000579\n",
       "1962-11-21 00:00:00-05:00    0.000579\n",
       "1963-02-19 00:00:00-05:00    0.000810\n",
       "                               ...   \n",
       "2022-05-23 00:00:00-04:00    1.130000\n",
       "2022-08-22 00:00:00-04:00    1.130000\n",
       "2022-11-21 00:00:00-05:00    1.130000\n",
       "2023-02-17 00:00:00-05:00    1.130000\n",
       "2023-05-22 00:00:00-04:00    1.190000\n",
       "Name: Dividends, Length: 246, dtype: float64"
      ]
     },
     "execution_count": 46,
     "metadata": {},
     "output_type": "execute_result"
    }
   ],
   "source": [
    "jnj = yf.Ticker(\"JNJ\")\n",
    "jnj.dividends"
   ]
  },
  {
   "cell_type": "code",
   "execution_count": 52,
   "id": "94bd5b05",
   "metadata": {},
   "outputs": [
    {
     "data": {
      "text/html": [
       "<div>\n",
       "<style scoped>\n",
       "    .dataframe tbody tr th:only-of-type {\n",
       "        vertical-align: middle;\n",
       "    }\n",
       "\n",
       "    .dataframe tbody tr th {\n",
       "        vertical-align: top;\n",
       "    }\n",
       "\n",
       "    .dataframe thead th {\n",
       "        text-align: right;\n",
       "    }\n",
       "</style>\n",
       "<table border=\"1\" class=\"dataframe\">\n",
       "  <thead>\n",
       "    <tr style=\"text-align: right;\">\n",
       "      <th></th>\n",
       "      <th>Dividends</th>\n",
       "    </tr>\n",
       "    <tr>\n",
       "      <th>Date</th>\n",
       "      <th></th>\n",
       "    </tr>\n",
       "  </thead>\n",
       "  <tbody>\n",
       "    <tr>\n",
       "      <th>1962-02-13</th>\n",
       "      <td>0.000579</td>\n",
       "    </tr>\n",
       "    <tr>\n",
       "      <th>1962-05-22</th>\n",
       "      <td>0.000579</td>\n",
       "    </tr>\n",
       "    <tr>\n",
       "      <th>1962-08-21</th>\n",
       "      <td>0.000579</td>\n",
       "    </tr>\n",
       "    <tr>\n",
       "      <th>1962-11-21</th>\n",
       "      <td>0.000579</td>\n",
       "    </tr>\n",
       "    <tr>\n",
       "      <th>1963-02-19</th>\n",
       "      <td>0.000810</td>\n",
       "    </tr>\n",
       "    <tr>\n",
       "      <th>...</th>\n",
       "      <td>...</td>\n",
       "    </tr>\n",
       "    <tr>\n",
       "      <th>2022-05-23</th>\n",
       "      <td>1.130000</td>\n",
       "    </tr>\n",
       "    <tr>\n",
       "      <th>2022-08-22</th>\n",
       "      <td>1.130000</td>\n",
       "    </tr>\n",
       "    <tr>\n",
       "      <th>2022-11-21</th>\n",
       "      <td>1.130000</td>\n",
       "    </tr>\n",
       "    <tr>\n",
       "      <th>2023-02-17</th>\n",
       "      <td>1.130000</td>\n",
       "    </tr>\n",
       "    <tr>\n",
       "      <th>2023-05-22</th>\n",
       "      <td>1.190000</td>\n",
       "    </tr>\n",
       "  </tbody>\n",
       "</table>\n",
       "<p>246 rows × 1 columns</p>\n",
       "</div>"
      ],
      "text/plain": [
       "            Dividends\n",
       "Date                 \n",
       "1962-02-13   0.000579\n",
       "1962-05-22   0.000579\n",
       "1962-08-21   0.000579\n",
       "1962-11-21   0.000579\n",
       "1963-02-19   0.000810\n",
       "...               ...\n",
       "2022-05-23   1.130000\n",
       "2022-08-22   1.130000\n",
       "2022-11-21   1.130000\n",
       "2023-02-17   1.130000\n",
       "2023-05-22   1.190000\n",
       "\n",
       "[246 rows x 1 columns]"
      ]
     },
     "execution_count": 52,
     "metadata": {},
     "output_type": "execute_result"
    }
   ],
   "source": [
    "df = pd.DataFrame(jnj.dividends)\n",
    "df.reset_index(inplace=True)\n",
    "df['Date'] = df['Date'].dt.date\n",
    "df.set_index('Date', inplace=True)\n",
    "df"
   ]
  },
  {
   "cell_type": "markdown",
   "id": "cd359d41",
   "metadata": {},
   "source": [
    "# Parse Years to Calculate Annual Dividends"
   ]
  },
  {
   "cell_type": "code",
   "execution_count": 57,
   "id": "c101e3ca",
   "metadata": {},
   "outputs": [],
   "source": [
    "years = {}\n",
    "\n",
    "for date in df.index:\n",
    "    year = date.year\n",
    "    if year in years:\n",
    "        years[year] += df.loc[date, 'Dividends']\n",
    "    else:\n",
    "        years[year] = df.loc[date, 'Dividends']"
   ]
  },
  {
   "cell_type": "markdown",
   "id": "bea95a3f",
   "metadata": {},
   "source": [
    "# Historical Payout Visualization"
   ]
  },
  {
   "cell_type": "code",
   "execution_count": 59,
   "id": "255a549a",
   "metadata": {},
   "outputs": [
    {
     "data": {
      "image/png": "[encoded data removed]",
      "text/plain": [
       "<Figure size 1500x500 with 1 Axes>"
      ]
     },
     "metadata": {},
     "output_type": "display_data"
    }
   ],
   "source": [
    "x_value = [i for i in years.keys()]\n",
    "y_value = [i for i in years.values()]\n",
    "fig = plt.figure(figsize=(15, 5))\n",
    "ax = fig.add_axes([0, 0, 1, 1])\n",
    "ax.bar(x_value, y_value)\n",
    "plt.title('Historical Dividend - ')\n",
    "plt.xlabel('Year')\n",
    "plt.xticks(rotation=90)\n",
    "plt.ylabel('Annual Dividend Amounts ($)')\n",
    "plt.show()"
   ]
  },
  {
   "cell_type": "code",
   "execution_count": null,
   "id": "b5254c21",
   "metadata": {},
   "outputs": [],
   "source": []
  }
 ],
 "metadata": {
  "kernelspec": {
   "display_name": "Python 3 (ipykernel)",
   "language": "python",
   "name": "python3"
  },
  "language_info": {
   "codemirror_mode": {
    "name": "ipython",
    "version": 3
   },
   "file_extension": ".py",
   "mimetype": "text/x-python",
   "name": "python",
   "nbconvert_exporter": "python",
   "pygments_lexer": "ipython3",
   "version": "3.9.16"
  },
  "toc": {
   "base_numbering": 1,
   "nav_menu": {},
   "number_sections": false,
   "sideBar": true,
   "skip_h1_title": true,
   "title_cell": "Table of Contents",
   "title_sidebar": "Contents",
   "toc_cell": false,
   "toc_position": {},
   "toc_section_display": true,
   "toc_window_display": false
  },
  "varInspector": {
   "cols": {
    "lenName": 16,
    "lenType": 16,
    "lenVar": 40
   },
   "kernels_config": {
    "python": {
     "delete_cmd_postfix": "",
     "delete_cmd_prefix": "del ",
     "library": "var_list.py",
     "varRefreshCmd": "print(var_dic_list())"
    },
    "r": {
     "delete_cmd_postfix": ") ",
     "delete_cmd_prefix": "rm(",
     "library": "var_list.r",
     "varRefreshCmd": "cat(var_dic_list()) "
    }
   },
   "types_to_exclude": [
    "module",
    "function",
    "builtin_function_or_method",
    "instance",
    "_Feature"
   ],
   "window_display": false
  }
 },
 "nbformat": 4,
 "nbformat_minor": 5
}
